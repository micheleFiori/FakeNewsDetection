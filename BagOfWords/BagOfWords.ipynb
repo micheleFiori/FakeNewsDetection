{
 "cells": [
  {
   "cell_type": "markdown",
   "metadata": {},
   "source": [
    "# Setup"
   ]
  },
  {
   "cell_type": "code",
   "execution_count": null,
   "metadata": {},
   "outputs": [],
   "source": [
    "import pandas as pd\n",
    "import numpy as np\n",
    "from sklearn.feature_extraction.text import TfidfVectorizer\n",
    "from itertools import product\n",
    "import csv\n",
    "from sklearn.pipeline import make_pipeline\n",
    "from sklearn.preprocessing import StandardScaler\n",
    "from sklearn.svm import SVC\n",
    "from sklearn.ensemble import RandomForestClassifier"
   ]
  },
  {
   "cell_type": "markdown",
   "metadata": {},
   "source": [
    "# Load dataset"
   ]
  },
  {
   "cell_type": "code",
   "execution_count": null,
   "metadata": {},
   "outputs": [],
   "source": [
    "train = pd.read_csv(\"../dataset/prep_train.csv\")#.fillna(0)\n",
    "val = pd.read_csv(\"../dataset/prep_valid.csv\")#.fillna(0)\n",
    "test = pd.read_csv(\"../dataset/prep_test.csv\")#.fillna(0)"
   ]
  },
  {
   "cell_type": "code",
   "execution_count": null,
   "metadata": {},
   "outputs": [],
   "source": [
    "Y_train = train.LABEL\n",
    "Y_val = val.LABEL\n",
    "Y_test = test.LABEL"
   ]
  },
  {
   "cell_type": "markdown",
   "metadata": {},
   "source": [
    "# SVM"
   ]
  },
  {
   "cell_type": "code",
   "execution_count": null,
   "metadata": {},
   "outputs": [],
   "source": [
    "ranges = [(1,1),(2,2),(3,3),(1,2),(2,3),(1,3)]\n",
    "kernel = [\"linear\", \"poly\", \"rbf\", \"sigmoid\"]"
   ]
  },
  {
   "cell_type": "code",
   "execution_count": null,
   "metadata": {
    "pycharm": {
     "is_executing": true
    }
   },
   "outputs": [],
   "source": [
    "with open('svm.csv', 'w') as file:\n",
    "    writer = csv.writer(file)\n",
    "    for r in ranges:\n",
    "        vectorizer = TfidfVectorizer(use_idf=True, ngram_range=r, min_df=3)\n",
    "        vectorizer.fit(train.STATEMENT)\n",
    "        X_train = np.asarray(vectorizer.transform(train.STATEMENT).todense())\n",
    "        X_val = np.asarray(vectorizer.transform(val.STATEMENT).todense())\n",
    "        X_test = np.asarray(vectorizer.transform(test.STATEMENT).todense())\n",
    "        for k in kernel:\n",
    "            clf = make_pipeline(StandardScaler(), SVC(kernel=k))\n",
    "            clf.fit(X_train, Y_train)\n",
    "            acc = clf.score(X_test, X_val)\n",
    "            print(f\"{r}, {k}, {acc}\")\n",
    "            data = [r, k, acc]\n",
    "            writer.writerow(data)"
   ]
  },
  {
   "cell_type": "markdown",
   "metadata": {},
   "source": [
    "# Random Forest"
   ]
  },
  {
   "cell_type": "code",
   "execution_count": null,
   "metadata": {},
   "outputs": [],
   "source": [
    "ranges = [(1,1),(2,2),(3,3),(1,2),(2,3),(1,3)]\n",
    "max_depth = [None, 5, 10]\n",
    "n_estimators = [5, 10, 50]\n",
    "max_features = [\"auto\", \"sqrt\", \"log2\", None]"
   ]
  },
  {
   "cell_type": "code",
   "execution_count": null,
   "metadata": {},
   "outputs": [],
   "source": [
    "with open('rf.csv', 'w') as file:\n",
    "    writer = csv.writer(file)\n",
    "    for r in ranges:\n",
    "        vectorizer = TfidfVectorizer(use_idf=True, ngram_range=r, min_df=3)\n",
    "        vectorizer.fit(train.STATEMENT)\n",
    "        X_train = np.asarray(vectorizer.transform(train.STATEMENT).todense())\n",
    "        X_val = np.asarray(vectorizer.transform(val.STATEMENT).todense())\n",
    "        X_test = np.asarray(vectorizer.transform(test.STATEMENT).todense())\n",
    "        for d,n,f in product(*[max_depth, n_estimators, max_features]):\n",
    "            clf = RandomForestClassifier(max_depth=d, n_estimators=n, max_features=f)\n",
    "            clf.fit(X_train, Y_train)\n",
    "            acc = clf.score(X_val, Y_val)\n",
    "            print(f\"{r}, {d}, {n}, {f}, {acc}\")\n",
    "            data = [r, d, n, f, acc]\n",
    "            writer.writerow(data)"
   ]
  }
 ],
 "metadata": {
  "kernelspec": {
   "display_name": "Python 3 (ipykernel)",
   "language": "python",
   "name": "python3"
  },
  "language_info": {
   "codemirror_mode": {
    "name": "ipython",
    "version": 3
   },
   "file_extension": ".py",
   "mimetype": "text/x-python",
   "name": "python",
   "nbconvert_exporter": "python",
   "pygments_lexer": "ipython3",
   "version": "3.7.13"
  }
 },
 "nbformat": 4,
 "nbformat_minor": 1
}
